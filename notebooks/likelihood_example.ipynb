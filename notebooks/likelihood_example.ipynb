{
 "cells": [
  {
   "cell_type": "code",
   "execution_count": 25,
   "metadata": {
    "collapsed": false,
    "jupyter": {
     "outputs_hidden": false
    }
   },
   "outputs": [],
   "source": [
    "import settings\n",
    "import numpy as np\n",
    "import yaml\n",
    "from collections import OrderedDict\n",
    "\n",
    "# Set up a simple dn/dz\n",
    "z = np.linspace(0,4,401)\n",
    "z0 = 1.0\n",
    "dndz = 1./(2.*z0) * (z/z0)**2. * np.exp(-z/z0)\n",
    "np.savetxt('input/dndz.txt',np.array([z,dndz]).T)\n",
    "\n",
    "# Set up a simple cosmology\n",
    "info = OrderedDict({})\n",
    "info['params'] = OrderedDict({})\n",
    "info['params']['H0'] = 70.\n",
    "info['params']['ombh2'] = 0.05*0.7**2.\n",
    "info['params']['tau'] = 0.05\n",
    "info['params']['mnu'] = 0.0\n",
    "info['params']['nnu'] = 3.046\n",
    "info['params']['num_massive_neutrinos'] = 0\n",
    "info['params']['ns'] = 0.965\n",
    "info['params']['SN'] = 1e-7\n",
    "\n",
    "# Sampled params\n",
    "info['params']['logA'] = OrderedDict({})\n",
    "info['params']['logA']['prior'] = OrderedDict({})\n",
    "info['params']['logA']['prior']['min'] = 1.0\n",
    "info['params']['logA']['prior']['max'] = 4.0\n",
    "info['params']['logA']['ref'] = 3.05\n",
    "info['params']['logA']['proposal'] = 0.1\n",
    "info['params']['logA']['latex'] = '\\log(10^{10} A_\\mathrm{s})'\n",
    "info['params']['logA']['drop'] = True\n",
    "\n",
    "# Define As as a derived parameter\n",
    "info['params']['As'] = OrderedDict({})\n",
    "info['params']['As']['value'] = 'lambda logA: 1e-10*np.exp(logA)'\n",
    "info['params']['As']['latex'] = 'A_\\mathrm{s}'\n",
    "\n",
    "info['params']['Omegam'] = OrderedDict({})\n",
    "info['params']['Omegam']['prior'] = OrderedDict({})\n",
    "info['params']['Omegam']['prior']['min'] = 0.1\n",
    "info['params']['Omegam']['prior']['max'] = 0.9\n",
    "info['params']['Omegam']['ref'] = 0.3\n",
    "info['params']['Omegam']['proposal'] = 0.01\n",
    "info['params']['Omegam']['latex'] = '\\Omega_m'\n",
    "info['params']['Omegam']['drop'] = True\n",
    "\n",
    "\n",
    "info['params']['b1'] = OrderedDict({})\n",
    "info['params']['b1']['prior'] = OrderedDict({})\n",
    "info['params']['b1']['prior']['min'] = 0.0\n",
    "info['params']['b1']['prior']['max'] = 10.0\n",
    "info['params']['b1']['ref'] = 1.0\n",
    "info['params']['b1']['proposal'] = 0.1\n",
    "info['params']['b1']['latex'] = r'b1'\n",
    "\n",
    "# Define omch2 and sigma8 as derived parameters\n",
    "#info['params']['omch2'] =  {}\n",
    "#info['params']['omch2']['derived'] = True\n",
    "#info['params']['omch2']['external'] = \"importlib.import_module('settings').get_omch2\",\n",
    "#info['params']['sigma8'] = {}\n",
    "#info['params']['sigma8']['derived'] = True\n",
    "#info['params']['sigma8']['latex'] = r'\\sigma_8'\n",
    "\n",
    "info['likelihood'] = settings.likelihood_block\n",
    "info['theory'] = settings.theory_block\n",
    "info['sampler'] = OrderedDict({})\n",
    "info['sampler']['minimize'] = settings.minimize_block\n",
    "info['modules'] = settings.modules_path\n",
    "info['output'] = settings.output_name + '_minimize'\n",
    "info['timing'] = True\n",
    "info['resume'] = True\n",
    "\n",
    "yaml.dump(info, open('input/likelihood_info.yaml','w'))"
   ]
  },
  {
   "cell_type": "code",
   "execution_count": 24,
   "metadata": {},
   "outputs": [
    {
     "name": "stdout",
     "output_type": "stream",
     "text": [
      "Submitted batch job 35857558\n"
     ]
    }
   ],
   "source": [
    "!sbatch make_test_cls.sh"
   ]
  },
  {
   "cell_type": "code",
   "execution_count": 8,
   "metadata": {},
   "outputs": [
    {
     "name": "stderr",
     "output_type": "stream",
     "text": [
      "/global/homes/a/akrolew/miniconda3/lib/python3.7/site-packages/ipykernel_launcher.py:1: YAMLLoadWarning: calling yaml.load() without Loader=... is deprecated, as the default Loader is unsafe. Please read https://msg.pyyaml.org/load for full details.\n",
      "  \"\"\"Entry point for launching an IPython kernel.\n"
     ]
    }
   ],
   "source": [
    "!sbatch minimize.sh"
   ]
  },
  {
   "cell_type": "code",
   "execution_count": null,
   "metadata": {},
   "outputs": [],
   "source": [
    "!sbatch chains.sh"
   ]
  },
  {
   "cell_type": "code",
   "execution_count": null,
   "metadata": {},
   "outputs": [],
   "source": [
    "!sbatch validation.sh"
   ]
  }
 ],
 "metadata": {
  "anaconda-cloud": {},
  "kernelspec": {
   "display_name": "Python 3",
   "language": "python",
   "name": "python3"
  },
  "language_info": {
   "codemirror_mode": {
    "name": "ipython",
    "version": 3
   },
   "file_extension": ".py",
   "mimetype": "text/x-python",
   "name": "python",
   "nbconvert_exporter": "python",
   "pygments_lexer": "ipython3",
   "version": "3.7.4"
  }
 },
 "nbformat": 4,
 "nbformat_minor": 4
}
